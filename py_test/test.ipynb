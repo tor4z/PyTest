{
 "cells": [
  {
   "cell_type": "code",
   "execution_count": 9,
   "metadata": {},
   "outputs": [
    {
     "name": "stdout",
     "output_type": "stream",
     "text": [
      "[slice(None, None, None), slice(1, 21, None), slice(2, 22, None), slice(3, 23, None), slice(4, 24, None)]\n",
      "--\n",
      "slice(None, None, None)\n",
      "[0, 1, 2, 3, 4, 5, 6, 7, 8, 9, 10, 11, 12, 13, 14, 15, 16, 17, 18, 19, 20, 21, 22, 23, 24, 25, 26, 27, 28, 29]\n",
      "--\n",
      "slice(1, 21, None)\n",
      "[1, 2, 3, 4, 5, 6, 7, 8, 9, 10, 11, 12, 13, 14, 15, 16, 17, 18, 19, 20]\n",
      "--\n",
      "slice(2, 22, None)\n",
      "[2, 3, 4, 5, 6, 7, 8, 9, 10, 11, 12, 13, 14, 15, 16, 17, 18, 19, 20, 21]\n",
      "--\n",
      "slice(3, 23, None)\n",
      "[3, 4, 5, 6, 7, 8, 9, 10, 11, 12, 13, 14, 15, 16, 17, 18, 19, 20, 21, 22]\n",
      "--\n",
      "slice(4, 24, None)\n",
      "[4, 5, 6, 7, 8, 9, 10, 11, 12, 13, 14, 15, 16, 17, 18, 19, 20, 21, 22, 23]\n",
      "--\n"
     ]
    }
   ],
   "source": [
    "size = 20\n",
    "start = range(1, 5)\n",
    "\n",
    "a = [slice(None)] + [slice(s, s+size) for s in start]\n",
    "print(a)\n",
    "\n",
    "lst = [i for i in range(30)]\n",
    "\n",
    "print('--')\n",
    "for s in a:\n",
    "    print(s)\n",
    "    print(lst[s])\n",
    "    print('--')"
   ]
  }
 ],
 "metadata": {
  "kernelspec": {
   "display_name": "Python 3",
   "language": "python",
   "name": "python3"
  },
  "language_info": {
   "codemirror_mode": {
    "name": "ipython",
    "version": 3
   },
   "file_extension": ".py",
   "mimetype": "text/x-python",
   "name": "python",
   "nbconvert_exporter": "python",
   "pygments_lexer": "ipython3",
   "version": "3.7.4"
  }
 },
 "nbformat": 4,
 "nbformat_minor": 4
}
