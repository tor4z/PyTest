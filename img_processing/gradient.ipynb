{
 "cells": [
  {
   "cell_type": "code",
   "execution_count": 20,
   "metadata": {},
   "outputs": [
    {
     "name": "stdout",
     "output_type": "stream",
     "text": [
      "[[1. 1. 1.]\n",
      " [1. 1. 1.]\n",
      " [1. 1. 1.]]\n",
      "[[0. 0. 0.]\n",
      " [0. 0. 0.]\n",
      " [0. 0. 0.]]\n",
      "[array([[0., 0., 0.],\n",
      "       [0., 0., 0.],\n",
      "       [0., 0., 0.]]), array([[0., 0., 0.],\n",
      "       [0., 0., 0.],\n",
      "       [0., 0., 0.]])]\n",
      "[[1. 1. 1. 1. 1. 1.]\n",
      " [1. 1. 1. 1. 1. 1.]\n",
      " [1. 1. 1. 1. 1. 1.]\n",
      " [0. 0. 0. 0. 0. 0.]\n",
      " [0. 0. 0. 0. 0. 0.]\n",
      " [0. 0. 0. 0. 0. 0.]]\n",
      "---\n",
      "[[ 0.   0.   0.   0.   0.   0. ]\n",
      " [ 0.   0.   0.   0.   0.   0. ]\n",
      " [-0.5 -0.5 -0.5 -0.5 -0.5 -0.5]\n",
      " [-0.5 -0.5 -0.5 -0.5 -0.5 -0.5]\n",
      " [ 0.   0.   0.   0.   0.   0. ]\n",
      " [ 0.   0.   0.   0.   0.   0. ]]\n"
     ]
    }
   ],
   "source": [
    "import numpy as np\n",
    "\n",
    "a = np.ones((3,3))\n",
    "print(a)\n",
    "b = np.zeros((3,3))\n",
    "print(b)\n",
    "\n",
    "da = np.gradient(a)\n",
    "print(da)\n",
    "\n",
    "ab = np.concatenate([a, b])\n",
    "ab = np.concatenate([ab, ab], 1)\n",
    "print(ab)\n",
    "\n",
    "print('---')\n",
    "dab = np.gradient(ab, axis=0)\n",
    "print(dab)"
   ]
  },
  {
   "cell_type": "code",
   "execution_count": 34,
   "metadata": {},
   "outputs": [
    {
     "name": "stdout",
     "output_type": "stream",
     "text": [
      "tensor([[1., 1., 1., 1., 1., 1.],\n",
      "        [1., 1., 1., 1., 1., 1.],\n",
      "        [1., 1., 1., 1., 1., 1.],\n",
      "        [0., 0., 0., 0., 0., 0.],\n",
      "        [0., 0., 0., 0., 0., 0.],\n",
      "        [0., 0., 0., 0., 0., 0.]], dtype=torch.float64, requires_grad=True)\n",
      "None\n",
      "tensor(0.5000, dtype=torch.float64, grad_fn=<MeanBackward0>)\n",
      "tensor([[0.0278, 0.0278, 0.0278, 0.0278, 0.0278, 0.0278],\n",
      "        [0.0278, 0.0278, 0.0278, 0.0278, 0.0278, 0.0278],\n",
      "        [0.0278, 0.0278, 0.0278, 0.0278, 0.0278, 0.0278],\n",
      "        [0.0278, 0.0278, 0.0278, 0.0278, 0.0278, 0.0278],\n",
      "        [0.0278, 0.0278, 0.0278, 0.0278, 0.0278, 0.0278],\n",
      "        [0.0278, 0.0278, 0.0278, 0.0278, 0.0278, 0.0278]], dtype=torch.float64)\n"
     ]
    }
   ],
   "source": [
    "import torch\n",
    "\n",
    "a = np.ones((3,3))\n",
    "b = np.zeros((3,3))\n",
    "\n",
    "da = np.gradient(a)\n",
    "\n",
    "ab = np.concatenate([a, b])\n",
    "ab = np.concatenate([ab, ab], 1)\n",
    "\n",
    "ab = torch.from_numpy(ab)\n",
    "ab = torch.autograd.Variable(ab, requires_grad=True)\n",
    "print(ab)\n",
    "print(ab.grad)\n",
    "\n",
    "w = torch.mean(ab)\n",
    "print(w)\n",
    "w.backward()\n",
    "print(ab.grad)"
   ]
  },
  {
   "cell_type": "code",
   "execution_count": 39,
   "metadata": {},
   "outputs": [
    {
     "name": "stdout",
     "output_type": "stream",
     "text": [
      "tensor([1., 2., 3.], requires_grad=True)\n",
      "tensor(2., grad_fn=<MeanBackward0>)\n",
      "tensor([0.3333, 0.3333, 0.3333])\n"
     ]
    }
   ],
   "source": [
    "import torch\n",
    "\n",
    "a = torch.autograd.Variable(torch.Tensor([1, 2, 3]), requires_grad=True)\n",
    "print(a)\n",
    "w = torch.mean(a)\n",
    "print(w)\n",
    "w.backward()\n",
    "print(a.grad)"
   ]
  },
  {
   "cell_type": "markdown",
   "metadata": {},
   "source": [
    "### Simple Gradient"
   ]
  },
  {
   "cell_type": "code",
   "execution_count": 48,
   "metadata": {},
   "outputs": [
    {
     "name": "stdout",
     "output_type": "stream",
     "text": [
      "tensor([2., 3.], requires_grad=True)\n",
      "tensor([5., 6.], grad_fn=<AddBackward0>)\n",
      "tensor([27., 38.], grad_fn=<AddBackward0>)\n",
      "tensor(32.5000, grad_fn=<MeanBackward0>)\n",
      "tensor([5., 6.])\n"
     ]
    }
   ],
   "source": [
    "import torch as T\n",
    "from torch.autograd import Variable as V\n",
    "\n",
    "a = V(T.FloatTensor([2, 3]), requires_grad=True)\n",
    "print(a)\n",
    "\n",
    "b = a + 3\n",
    "print(b)\n",
    "\n",
    "c = b**2 + 2\n",
    "print(c)\n",
    "\n",
    "out = c.mean()\n",
    "print(out)\n",
    "\n",
    "out.backward()\n",
    "\n",
    "print(a.grad)"
   ]
  },
  {
   "cell_type": "code",
   "execution_count": 52,
   "metadata": {},
   "outputs": [
    {
     "name": "stdout",
     "output_type": "stream",
     "text": [
      "tensor(8., grad_fn=<SumBackward0>)\n",
      "tensor([[1., 1.],\n",
      "        [1., 1.]])\n",
      "None\n",
      "None\n"
     ]
    }
   ],
   "source": [
    "import torch as T\n",
    "from torch.autograd import Variable as V\n",
    "\n",
    "\n",
    "x = V(T.ones(2, 2), requires_grad=True)\n",
    "y = x + 1\n",
    "\n",
    "sy = T.sum(y)\n",
    "\n",
    "print(sy)\n",
    "sy.backward()\n",
    "\n",
    "print(x.grad)\n",
    "print(y.grad)\n",
    "print(sy.grad)"
   ]
  },
  {
   "cell_type": "code",
   "execution_count": 62,
   "metadata": {},
   "outputs": [
    {
     "name": "stdout",
     "output_type": "stream",
     "text": [
      "tensor([1.])\n",
      "tensor([1.])\n",
      "tensor([4.])\n",
      "--\n",
      "None\n",
      "tensor([4.])\n",
      "--\n",
      "tensor([1.])\n",
      "tensor([1.])\n",
      "tensor([4.])\n"
     ]
    }
   ],
   "source": [
    "import torch as T\n",
    "from torch.autograd import Variable as V\n",
    "\n",
    "grad_list = []\n",
    "\n",
    "def print_grad(grad):\n",
    "    print(grad)\n",
    "    grad_list.append(grad)\n",
    "\n",
    "\n",
    "a = V(T.FloatTensor([2.0]), requires_grad=True)\n",
    "a.register_hook(print_grad)\n",
    "\n",
    "b = a**2 + 1\n",
    "b.register_hook(print_grad)\n",
    "\n",
    "c = b + 1\n",
    "c.register_hook(print_grad)\n",
    "\n",
    "c.backward()\n",
    "\n",
    "print('--')\n",
    "print(b.grad)\n",
    "print(a.grad)\n",
    "\n",
    "print('--')\n",
    "for grad in grad_list:\n",
    "    print(grad)"
   ]
  }
 ],
 "metadata": {
  "kernelspec": {
   "display_name": "Python 3",
   "language": "python",
   "name": "python3"
  },
  "language_info": {
   "codemirror_mode": {
    "name": "ipython",
    "version": 3
   },
   "file_extension": ".py",
   "mimetype": "text/x-python",
   "name": "python",
   "nbconvert_exporter": "python",
   "pygments_lexer": "ipython3",
   "version": "3.7.4"
  }
 },
 "nbformat": 4,
 "nbformat_minor": 4
}
