{
 "cells": [
  {
   "cell_type": "code",
   "execution_count": 2,
   "metadata": {},
   "outputs": [],
   "source": [
    "import torch\n",
    "from torch import nn"
   ]
  },
  {
   "cell_type": "code",
   "execution_count": 12,
   "metadata": {},
   "outputs": [
    {
     "name": "stdout",
     "output_type": "stream",
     "text": [
      "name: , module: TestM(\n",
      "  (conv1): Conv2d(10, 4, kernel_size=(1, 1), stride=(1, 1))\n",
      "  (bn1): BatchNorm2d(4, eps=1e-05, momentum=0.1, affine=True, track_running_stats=True)\n",
      "  (conv2): Conv2d(10, 4, kernel_size=(1, 1), stride=(1, 1))\n",
      "  (bn2): BatchNorm2d(4, eps=1e-05, momentum=0.1, affine=True, track_running_stats=True)\n",
      "  (conv3): Conv2d(10, 4, kernel_size=(1, 1), stride=(1, 1))\n",
      "  (bn3): BatchNorm2d(4, eps=1e-05, momentum=0.1, affine=True, track_running_stats=True)\n",
      "  (conv4): Conv2d(10, 4, kernel_size=(1, 1), stride=(1, 1))\n",
      "  (conv): Sequential(\n",
      "    (0): BatchNorm2d(4, eps=1e-05, momentum=0.1, affine=True, track_running_stats=True)\n",
      "    (1): Conv2d(10, 4, kernel_size=(1, 1), stride=(1, 1))\n",
      "  )\n",
      ")\n",
      "name: conv1, module: Conv2d(10, 4, kernel_size=(1, 1), stride=(1, 1))\n",
      "name: bn1, module: BatchNorm2d(4, eps=1e-05, momentum=0.1, affine=True, track_running_stats=True)\n",
      "name: conv2, module: Conv2d(10, 4, kernel_size=(1, 1), stride=(1, 1))\n",
      "name: bn2, module: BatchNorm2d(4, eps=1e-05, momentum=0.1, affine=True, track_running_stats=True)\n",
      "name: conv3, module: Conv2d(10, 4, kernel_size=(1, 1), stride=(1, 1))\n",
      "name: bn3, module: BatchNorm2d(4, eps=1e-05, momentum=0.1, affine=True, track_running_stats=True)\n",
      "name: conv4, module: Conv2d(10, 4, kernel_size=(1, 1), stride=(1, 1))\n",
      "name: conv, module: Sequential(\n",
      "  (0): BatchNorm2d(4, eps=1e-05, momentum=0.1, affine=True, track_running_stats=True)\n",
      "  (1): Conv2d(10, 4, kernel_size=(1, 1), stride=(1, 1))\n",
      ")\n",
      "name: conv.0, module: BatchNorm2d(4, eps=1e-05, momentum=0.1, affine=True, track_running_stats=True)\n",
      "name: conv.1, module: Conv2d(10, 4, kernel_size=(1, 1), stride=(1, 1))\n"
     ]
    }
   ],
   "source": [
    "class TestM(nn.Module):\n",
    "    def __init__(self):\n",
    "        super(TestM, self).__init__()\n",
    "        self.conv1 = nn.Conv2d(10, 4, 1, 1)\n",
    "        self.bn1 = nn.BatchNorm2d(4)\n",
    "        self.conv2 = nn.Conv2d(10, 4, 1, 1)\n",
    "        self.bn2 = nn.BatchNorm2d(4)\n",
    "        self.conv3 = nn.Conv2d(10, 4, 1, 1)\n",
    "        self.bn3 = nn.BatchNorm2d(4)\n",
    "        self.conv4 = nn.Conv2d(10, 4, 1, 1)\n",
    "        self.conv = nn.Sequential(nn.BatchNorm2d(4), nn.Conv2d(10, 4, 1, 1))\n",
    "    \n",
    "    def forward(self):\n",
    "        pass\n",
    "\n",
    "net = TestM()\n",
    "for name, m in net.named_modules():\n",
    "    print('name: {}, module: {}'.format(name, m))"
   ]
  }
 ],
 "metadata": {
  "kernelspec": {
   "display_name": "Python 3",
   "language": "python",
   "name": "python3"
  },
  "language_info": {
   "codemirror_mode": {
    "name": "ipython",
    "version": 3
   },
   "file_extension": ".py",
   "mimetype": "text/x-python",
   "name": "python",
   "nbconvert_exporter": "python",
   "pygments_lexer": "ipython3",
   "version": "3.7.4"
  }
 },
 "nbformat": 4,
 "nbformat_minor": 4
}
